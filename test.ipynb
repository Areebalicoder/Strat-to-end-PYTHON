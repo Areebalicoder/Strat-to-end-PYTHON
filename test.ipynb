{
 "cells": [
  {
   "cell_type": "code",
   "execution_count": null,
   "metadata": {},
   "outputs": [
    {
     "name": "stdout",
     "output_type": "stream",
     "text": [
      "sum of two number\n",
      "Sum of two number 10 and 12 is equle to 22\n"
     ]
    }
   ],
   "source": [
    "print(\"sum of two number\")\n",
    "a=int(input(\"Enter a number = \"))\n",
    "b=int(input(\"Enter a number = \"))\n",
    "c=a+b\n",
    "print(\"Sum of two number\",a,\"and\",b,\"is equle to\",c)"
   ]
  },
  {
   "cell_type": "code",
   "execution_count": 16,
   "metadata": {},
   "outputs": [
    {
     "ename": "ValueError",
     "evalue": "Mime type rendering requires nbformat>=4.2.0 but it is not installed",
     "output_type": "error",
     "traceback": [
      "\u001b[0;31m---------------------------------------------------------------------------\u001b[0m",
      "\u001b[0;31mValueError\u001b[0m                                Traceback (most recent call last)",
      "\u001b[1;32m/Users/areebalishivji/Dropbox/My Mac (Areebali’s MacBook Air)/Desktop/python/test.ipynb Cell 2'\u001b[0m in \u001b[0;36m<cell line: 9>\u001b[0;34m()\u001b[0m\n\u001b[1;32m      <a href='vscode-notebook-cell:/Users/areebalishivji/Dropbox/My%20Mac%20%28Areebali%E2%80%99s%20MacBook%20Air%29/Desktop/python/test.ipynb#ch0000001?line=6'>7</a>\u001b[0m \u001b[39m# Making a bar graph of data-1.csv files.\u001b[39;00m\n\u001b[1;32m      <a href='vscode-notebook-cell:/Users/areebalishivji/Dropbox/My%20Mac%20%28Areebali%E2%80%99s%20MacBook%20Air%29/Desktop/python/test.ipynb#ch0000001?line=7'>8</a>\u001b[0m fig1\u001b[39m=\u001b[39mpx\u001b[39m.\u001b[39mbar(df, x\u001b[39m=\u001b[39m\u001b[39m'\u001b[39m\u001b[39mCoffee in ml\u001b[39m\u001b[39m'\u001b[39m, y\u001b[39m=\u001b[39m\u001b[39m'\u001b[39m\u001b[39msleep in hours\u001b[39m\u001b[39m'\u001b[39m)           \n\u001b[0;32m----> <a href='vscode-notebook-cell:/Users/areebalishivji/Dropbox/My%20Mac%20%28Areebali%E2%80%99s%20MacBook%20Air%29/Desktop/python/test.ipynb#ch0000001?line=8'>9</a>\u001b[0m fig1\u001b[39m.\u001b[39;49mshow()\n",
      "File \u001b[0;32m~/Library/Python/3.8/lib/python/site-packages/plotly/basedatatypes.py:3398\u001b[0m, in \u001b[0;36mBaseFigure.show\u001b[0;34m(self, *args, **kwargs)\u001b[0m\n\u001b[1;32m   <a href='file:///Users/areebalishivji/Library/Python/3.8/lib/python/site-packages/plotly/basedatatypes.py?line=3364'>3365</a>\u001b[0m \u001b[39m\"\"\"\u001b[39;00m\n\u001b[1;32m   <a href='file:///Users/areebalishivji/Library/Python/3.8/lib/python/site-packages/plotly/basedatatypes.py?line=3365'>3366</a>\u001b[0m \u001b[39mShow a figure using either the default renderer(s) or the renderer(s)\u001b[39;00m\n\u001b[1;32m   <a href='file:///Users/areebalishivji/Library/Python/3.8/lib/python/site-packages/plotly/basedatatypes.py?line=3366'>3367</a>\u001b[0m \u001b[39mspecified by the renderer argument\u001b[39;00m\n\u001b[0;32m   (...)\u001b[0m\n\u001b[1;32m   <a href='file:///Users/areebalishivji/Library/Python/3.8/lib/python/site-packages/plotly/basedatatypes.py?line=3393'>3394</a>\u001b[0m \u001b[39mNone\u001b[39;00m\n\u001b[1;32m   <a href='file:///Users/areebalishivji/Library/Python/3.8/lib/python/site-packages/plotly/basedatatypes.py?line=3394'>3395</a>\u001b[0m \u001b[39m\"\"\"\u001b[39;00m\n\u001b[1;32m   <a href='file:///Users/areebalishivji/Library/Python/3.8/lib/python/site-packages/plotly/basedatatypes.py?line=3395'>3396</a>\u001b[0m \u001b[39mimport\u001b[39;00m \u001b[39mplotly\u001b[39;00m\u001b[39m.\u001b[39;00m\u001b[39mio\u001b[39;00m \u001b[39mas\u001b[39;00m \u001b[39mpio\u001b[39;00m\n\u001b[0;32m-> <a href='file:///Users/areebalishivji/Library/Python/3.8/lib/python/site-packages/plotly/basedatatypes.py?line=3397'>3398</a>\u001b[0m \u001b[39mreturn\u001b[39;00m pio\u001b[39m.\u001b[39;49mshow(\u001b[39mself\u001b[39;49m, \u001b[39m*\u001b[39;49margs, \u001b[39m*\u001b[39;49m\u001b[39m*\u001b[39;49mkwargs)\n",
      "File \u001b[0;32m~/Library/Python/3.8/lib/python/site-packages/plotly/io/_renderers.py:397\u001b[0m, in \u001b[0;36mshow\u001b[0;34m(fig, renderer, validate, **kwargs)\u001b[0m\n\u001b[1;32m    <a href='file:///Users/areebalishivji/Library/Python/3.8/lib/python/site-packages/plotly/io/_renderers.py?line=391'>392</a>\u001b[0m         \u001b[39mraise\u001b[39;00m \u001b[39mValueError\u001b[39;00m(\n\u001b[1;32m    <a href='file:///Users/areebalishivji/Library/Python/3.8/lib/python/site-packages/plotly/io/_renderers.py?line=392'>393</a>\u001b[0m             \u001b[39m\"\u001b[39m\u001b[39mMime type rendering requires ipython but it is not installed\u001b[39m\u001b[39m\"\u001b[39m\n\u001b[1;32m    <a href='file:///Users/areebalishivji/Library/Python/3.8/lib/python/site-packages/plotly/io/_renderers.py?line=393'>394</a>\u001b[0m         )\n\u001b[1;32m    <a href='file:///Users/areebalishivji/Library/Python/3.8/lib/python/site-packages/plotly/io/_renderers.py?line=395'>396</a>\u001b[0m     \u001b[39mif\u001b[39;00m \u001b[39mnot\u001b[39;00m nbformat \u001b[39mor\u001b[39;00m LooseVersion(nbformat\u001b[39m.\u001b[39m__version__) \u001b[39m<\u001b[39m LooseVersion(\u001b[39m\"\u001b[39m\u001b[39m4.2.0\u001b[39m\u001b[39m\"\u001b[39m):\n\u001b[0;32m--> <a href='file:///Users/areebalishivji/Library/Python/3.8/lib/python/site-packages/plotly/io/_renderers.py?line=396'>397</a>\u001b[0m         \u001b[39mraise\u001b[39;00m \u001b[39mValueError\u001b[39;00m(\n\u001b[1;32m    <a href='file:///Users/areebalishivji/Library/Python/3.8/lib/python/site-packages/plotly/io/_renderers.py?line=397'>398</a>\u001b[0m             \u001b[39m\"\u001b[39m\u001b[39mMime type rendering requires nbformat>=4.2.0 but it is not installed\u001b[39m\u001b[39m\"\u001b[39m\n\u001b[1;32m    <a href='file:///Users/areebalishivji/Library/Python/3.8/lib/python/site-packages/plotly/io/_renderers.py?line=398'>399</a>\u001b[0m         )\n\u001b[1;32m    <a href='file:///Users/areebalishivji/Library/Python/3.8/lib/python/site-packages/plotly/io/_renderers.py?line=400'>401</a>\u001b[0m     ipython_display\u001b[39m.\u001b[39mdisplay(bundle, raw\u001b[39m=\u001b[39m\u001b[39mTrue\u001b[39;00m)\n\u001b[1;32m    <a href='file:///Users/areebalishivji/Library/Python/3.8/lib/python/site-packages/plotly/io/_renderers.py?line=402'>403</a>\u001b[0m \u001b[39m# external renderers\u001b[39;00m\n",
      "\u001b[0;31mValueError\u001b[0m: Mime type rendering requires nbformat>=4.2.0 but it is not installed"
     ]
    }
   ],
   "source": [
    "import pandas as pd\n",
    "import plotly.express as px\n",
    "c=input(\"give the file path \")\n",
    "\n",
    "df = pd.read_csv(c)\n",
    "\n",
    "# Making a bar graph of data-1.csv files.\n",
    "fig1=px.bar(df, x='Coffee in ml', y='sleep in hours')           \n",
    "fig1.show()    "
   ]
  }
 ],
 "metadata": {
  "interpreter": {
   "hash": "31f2aee4e71d21fbe5cf8b01ff0e069b9275f58929596ceb00d14d90e3e16cd6"
  },
  "kernelspec": {
   "display_name": "Python 3.8.9 64-bit",
   "language": "python",
   "name": "python3"
  },
  "language_info": {
   "codemirror_mode": {
    "name": "ipython",
    "version": 3
   },
   "file_extension": ".py",
   "mimetype": "text/x-python",
   "name": "python",
   "nbconvert_exporter": "python",
   "pygments_lexer": "ipython3",
   "version": "3.8.9"
  },
  "orig_nbformat": 4
 },
 "nbformat": 4,
 "nbformat_minor": 2
}
