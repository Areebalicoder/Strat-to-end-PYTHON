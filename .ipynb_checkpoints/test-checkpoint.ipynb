{
 "cells": [
  {
   "cell_type": "code",
   "execution_count": null,
   "metadata": {},
   "outputs": [
    {
     "name": "stdout",
     "output_type": "stream",
     "text": [
      "sum of two number\n",
      "Sum of two number 10 and 12 is equle to 22\n"
     ]
    }
   ],
   "source": [
    "print(\"sum of two number\")\n",
    "a=int(input(\"Enter a number = \"))\n",
    "b=int(input(\"Enter a number = \"))\n",
    "c=a+b\n",
    "print(\"Sum of two number\",a,\"and\",b,\"is equle to\",c)"
   ]
  },
  {
   "cell_type": "code",
   "execution_count": 2,
   "metadata": {},
   "outputs": [
    {
     "name": "stdout",
     "output_type": "stream",
     "text": [
      "Value of a 10\n",
      "value of b 40\n",
      "a is less than b\n",
      "code ended\n",
      " \n"
     ]
    }
   ],
   "source": [
    "a=int(input(\"Enter the value => \"))\n",
    "b=int(input(\"Enter the value => \"))\n",
    "\n",
    "print(\"Value of a\",a)\n",
    "print(\"value of b\",b)\n",
    "\n",
    "if b<a: \n",
    "    print(\"b is less than a\")\n",
    "else:            \n",
    "    print(\"a is less than b\")\n",
    "print(\"code ended\")\n",
    "print(\" \")\n",
    "exit()"
   ]
  }
 ],
 "metadata": {
  "interpreter": {
   "hash": "31f2aee4e71d21fbe5cf8b01ff0e069b9275f58929596ceb00d14d90e3e16cd6"
  },
  "kernelspec": {
   "display_name": "Python 3.8.9 64-bit",
   "language": "python",
   "name": "python3"
  },
  "language_info": {
   "codemirror_mode": {
    "name": "ipython",
    "version": 3
   },
   "file_extension": ".py",
   "mimetype": "text/x-python",
   "name": "python",
   "nbconvert_exporter": "python",
   "pygments_lexer": "ipython3",
   "version": "3.8.9"
  },
  "orig_nbformat": 4
 },
 "nbformat": 4,
 "nbformat_minor": 2
}
